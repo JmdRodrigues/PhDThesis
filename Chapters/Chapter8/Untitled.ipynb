{
 "cells": [
  {
   "cell_type": "markdown",
   "id": "20b0783e",
   "metadata": {},
   "source": [
    "# Results, Validation and Applications"
   ]
  },
  {
   "cell_type": "markdown",
   "id": "98dbb709",
   "metadata": {},
   "source": [
    "## Novelty Segmentation"
   ]
  },
  {
   "cell_type": "code",
   "execution_count": null,
   "id": "8d525625",
   "metadata": {},
   "outputs": [],
   "source": []
  }
 ],
 "metadata": {
  "kernelspec": {
   "display_name": "Python 3",
   "language": "python",
   "name": "python3"
  },
  "language_info": {
   "codemirror_mode": {
    "name": "ipython",
    "version": 3
   },
   "file_extension": ".py",
   "mimetype": "text/x-python",
   "name": "python",
   "nbconvert_exporter": "python",
   "pygments_lexer": "ipython3",
   "version": "3.7.9"
  }
 },
 "nbformat": 4,
 "nbformat_minor": 5
}
